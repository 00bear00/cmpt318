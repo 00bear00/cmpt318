{
 "cells": [
  {
   "cell_type": "markdown",
   "metadata": {},
   "source": [
    "# <font color=\"red\">CMPT318 PROJECT</font>"
   ]
  },
  {
   "cell_type": "code",
   "execution_count": 1,
   "metadata": {
    "collapsed": true
   },
   "outputs": [],
   "source": [
    "import pandas as pd\n",
    "import numpy as np\n",
    "from scipy import misc\n",
    "from skimage.io import imread_collection\n",
    "import re\n",
    "import glob"
   ]
  },
  {
   "cell_type": "markdown",
   "metadata": {},
   "source": [
    "## <font color=\"blue\"> I. LOAD THE DATA </font>"
   ]
  },
  {
   "cell_type": "markdown",
   "metadata": {},
   "source": [
    "### i. Load Webcam Images"
   ]
  },
  {
   "cell_type": "code",
   "execution_count": 2,
   "metadata": {},
   "outputs": [],
   "source": [
    "image_collection = imread_collection('katkam-scaled/*.jpg')\n",
    "images_np = np.array(image_collection)"
   ]
  },
  {
   "cell_type": "code",
   "execution_count": 3,
   "metadata": {},
   "outputs": [],
   "source": [
    "# IMAGE IN NUMPY ARRAY.\n",
    "# images_np\n",
    "# images_np.shape"
   ]
  },
  {
   "cell_type": "code",
   "execution_count": 4,
   "metadata": {
    "collapsed": true
   },
   "outputs": [],
   "source": [
    "images_df = pd.DataFrame(\n",
    "    images_np.reshape(images_np.shape[0],images_np.shape[1] * images_np.shape[2] * images_np.shape[3]))"
   ]
  },
  {
   "cell_type": "code",
   "execution_count": 5,
   "metadata": {},
   "outputs": [],
   "source": [
    "# IMAGE IN PANDAS DATAFRAME, AND BEEN RESHAPED.\n",
    "# images_df\n",
    "# images_df.shape"
   ]
  },
  {
   "cell_type": "markdown",
   "metadata": {},
   "source": [
    "## ii. Load Weather Observations Data"
   ]
  },
  {
   "cell_type": "code",
   "execution_count": 6,
   "metadata": {},
   "outputs": [],
   "source": [
    "#reference: for load multiple file from forder: https://stackoverflow.com/questions/20906474/import-multiple-csv-files-into-pandas-and-concatenate-into-one-dataframe\n",
    "weather_obv_filenames = glob.glob('yvr-weather/*.csv')\n",
    "weather_obv_df = []\n",
    "\n",
    "for filename in weather_obv_filenames:\n",
    "    weather_obv_df.append(pd.read_csv(filename, skiprows=15)) # first 15 rows are general information, which is not useful data.\n",
    "\n",
    "weather_obv_df = pd.concat(weather_obv_df).reset_index()\n",
    "# pd.read_csv('weather-51442-201607.csv', skiprows=15)"
   ]
  },
  {
   "cell_type": "code",
   "execution_count": 7,
   "metadata": {},
   "outputs": [],
   "source": [
    "# WEATHER OBSERVATIONS DATAFRAME.\n",
    "# weather_obv_df"
   ]
  },
  {
   "cell_type": "markdown",
   "metadata": {},
   "source": [
    "## <font color=\"blue\">II. CLEAN&PREPARE DATA</font>"
   ]
  },
  {
   "cell_type": "markdown",
   "metadata": {},
   "source": [
    "### i. Clean Webcam Images"
   ]
  },
  {
   "cell_type": "code",
   "execution_count": 8,
   "metadata": {},
   "outputs": [],
   "source": [
    "# GET IMAGE FILE_NAME\n",
    "image_filenames = np.array(image_collection.files)\n",
    "# image_filenames[0]"
   ]
  },
  {
   "cell_type": "code",
   "execution_count": 9,
   "metadata": {
    "collapsed": true
   },
   "outputs": [],
   "source": [
    "# extract image shoot date form filename\n",
    "re_image_date = re.compile(r'katkam-\\d\\d\\d\\d\\d\\d\\d\\d\\d\\d\\d\\d\\d\\d')\n",
    "def get_image_time(path):\n",
    "    matches = re_image_date.findall(path)\n",
    "    if matches:\n",
    "        # preocess match learned from https://docs.python.org/2/library/re.html\n",
    "        # take the last match which will be file name\n",
    "        result = matches[-1]\n",
    "        return (int(result[-14:-10]), int(result[-10:-8]), int(result[-8:-6]), result[-6:-4] + ':' + result[-4:-2])\n",
    "    else:\n",
    "        return \"wrong input file name format\"\n",
    "get_image_time = np.vectorize(get_image_time)\n",
    "images_date = get_image_time(image_filenames)"
   ]
  },
  {
   "cell_type": "code",
   "execution_count": 10,
   "metadata": {},
   "outputs": [],
   "source": [
    "# EXTRACTED IMAGE DATE\n",
    "# images_date"
   ]
  },
  {
   "cell_type": "code",
   "execution_count": 11,
   "metadata": {
    "collapsed": true
   },
   "outputs": [],
   "source": [
    "# add relevant columns\n",
    "images_df['Year'] = images_date[0]\n",
    "images_df['Month'] = images_date[1]\n",
    "images_df['Day'] = images_date[2]\n",
    "images_df['Time'] = images_date[3]"
   ]
  },
  {
   "cell_type": "code",
   "execution_count": 12,
   "metadata": {},
   "outputs": [],
   "source": [
    "# IMAGE DATA WITH DATE TIME\n",
    "# images_df['Time']"
   ]
  },
  {
   "cell_type": "markdown",
   "metadata": {},
   "source": [
    "## ii. Clean Weather Observations Data"
   ]
  },
  {
   "cell_type": "code",
   "execution_count": 13,
   "metadata": {},
   "outputs": [],
   "source": [
    "# DROP UNCESSARY COLUMNS\n",
    "cleaned_weather_obv = weather_obv_df.drop(['index','Data Quality'], axis=1)\n",
    "cleaned_weather_obv = cleaned_weather_obv.drop(['Temp Flag', 'Stn Press Flag','Wind Chill Flag', 'Hmdx Flag', 'Visibility Flag', 'Wind Spd Flag', 'Wind Dir Flag', 'Rel Hum Flag', 'Dew Point Temp Flag'], axis=1)\n",
    "\n",
    "# type(weather_obv_df['Year'][0])"
   ]
  },
  {
   "cell_type": "code",
   "execution_count": 14,
   "metadata": {},
   "outputs": [],
   "source": [
    "# SPLIT cleaned_weather INTO TWO DATAFRAME, ONE WITH NaN WEATHER COLUMN, ONE WITH NOT NaN COLUMN\n",
    "data_whoseWeather_IsNaN = cleaned_weather_obv[~ cleaned_weather_obv.Weather.notnull()] # weather with Nan\n",
    "main_training_data = cleaned_weather_obv[cleaned_weather_obv.Weather.notnull()] # weather without Nan"
   ]
  },
  {
   "cell_type": "code",
   "execution_count": 15,
   "metadata": {},
   "outputs": [],
   "source": [
    "# TWO SPLIT DATAFRAME\n",
    "# data_whoseWeather_IsNaN\n",
    "# main_training_data"
   ]
  },
  {
   "cell_type": "code",
   "execution_count": 16,
   "metadata": {
    "collapsed": true
   },
   "outputs": [],
   "source": [
    "main_training_data_withoutHW = main_training_data.drop(['Hmdx', 'Wind Chill'],axis=1)\n",
    "final_data = main_training_data_withoutHW.dropna()\n",
    "# main_training_data = cleaned_data.copy()"
   ]
  },
  {
   "cell_type": "code",
   "execution_count": 18,
   "metadata": {},
   "outputs": [],
   "source": [
    "# final_data"
   ]
  },
  {
   "cell_type": "code",
   "execution_count": null,
   "metadata": {
    "collapsed": true
   },
   "outputs": [],
   "source": []
  },
  {
   "cell_type": "markdown",
   "metadata": {},
   "source": [
    "## iii. Join Cleaned Webcam Image and Cleaned Weather obserbations Data Together"
   ]
  },
  {
   "cell_type": "code",
   "execution_count": null,
   "metadata": {
    "collapsed": true
   },
   "outputs": [],
   "source": [
    "merged_data = final_data.merge(right = images_df, on = ['Year', 'Month', 'Day', 'Time'], how = 'inner')"
   ]
  },
  {
   "cell_type": "code",
   "execution_count": null,
   "metadata": {
    "collapsed": true
   },
   "outputs": [],
   "source": []
  }
 ],
 "metadata": {
  "kernelspec": {
   "display_name": "Python 3",
   "language": "python",
   "name": "python3"
  },
  "language_info": {
   "codemirror_mode": {
    "name": "ipython",
    "version": 3
   },
   "file_extension": ".py",
   "mimetype": "text/x-python",
   "name": "python",
   "nbconvert_exporter": "python",
   "pygments_lexer": "ipython3",
   "version": "3.6.1"
  }
 },
 "nbformat": 4,
 "nbformat_minor": 2
}
